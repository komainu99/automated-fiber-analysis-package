{
 "cells": [
  {
   "cell_type": "code",
   "execution_count": 1,
   "metadata": {},
   "outputs": [
    {
     "name": "stdout",
     "output_type": "stream",
     "text": [
      "White_Area=34.55657958984375%\n",
      "Black_Area=65.44342041015625%\n"
     ]
    }
   ],
   "source": [
    "#画像の二値化_binary\n",
    "import cv2\n",
    "\n",
    "#画像の読み込み\n",
    "img=cv2.imread('/Users/yazuhidekazu/Desktop/ilastik_test/export.png',0)\n",
    "#特定の範囲のGaussian分布から閾値を自動で決めて二値化\n",
    "ret1,img_th=cv2.threshold(img,0,255,cv2.THRESH_OTSU)\n",
    "#全体の画素数\n",
    "whole_area=img_th.size\n",
    "#白部分の画素数\n",
    "white_area=cv2.countNonZero(img_th)\n",
    "#黒部分の画素数\n",
    "black_area=whole_area-white_area\n",
    "\n",
    "#それぞれの割合を表示\n",
    "print('White_Area='+str(white_area/whole_area*100)+'%')\n",
    "print('Black_Area='+str(black_area/whole_area*100)+'%')"
   ]
  },
  {
   "cell_type": "code",
   "execution_count": null,
   "metadata": {},
   "outputs": [],
   "source": []
  }
 ],
 "metadata": {
  "kernelspec": {
   "display_name": "Python 3.9.12 ('py39')",
   "language": "python",
   "name": "python3"
  },
  "language_info": {
   "codemirror_mode": {
    "name": "ipython",
    "version": 3
   },
   "file_extension": ".py",
   "mimetype": "text/x-python",
   "name": "python",
   "nbconvert_exporter": "python",
   "pygments_lexer": "ipython3",
   "version": "3.9.12"
  },
  "orig_nbformat": 4,
  "vscode": {
   "interpreter": {
    "hash": "ac08b4a17a5501b0a43abe0ec35ce75e7d41bccd5b13c918c3f9066c2cf1c3e6"
   }
  }
 },
 "nbformat": 4,
 "nbformat_minor": 2
}
